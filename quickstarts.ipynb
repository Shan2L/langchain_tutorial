{
 "cells": [
  {
   "cell_type": "code",
   "execution_count": 3,
   "metadata": {},
   "outputs": [
    {
     "name": "stdout",
     "output_type": "stream",
     "text": [
      "Langsmith can help with testing in the following ways:\n",
      "\n",
      "1. Test automation: Langsmith can generate test scripts and automate the execution of tests, saving time and effort in manual testing. It can create test cases, generate test data, and automatically execute the tests, ensuring consistent and reliable results. This helps in improving test coverage and reducing the possibility of human errors.\n",
      "\n",
      "2. Test case generation: Langsmith can automatically generate test cases based on the specifications or requirements of the software being tested. It can analyze the code and identify various scenarios and edge cases that need to be tested. This helps in comprehensive testing and ensures that all possible scenarios are covered.\n",
      "\n",
      "3. Test data generation: Langsmith can generate test data that covers various data types, ranges, and combinations. It can create meaningful and realistic test data that helps in testing the software's robustness and performance under different conditions.\n",
      "\n",
      "4. Test coverage analysis: Langsmith can analyze the code and provide insights into the coverage of tests. It can highlight areas of the code that are not adequately covered by existing tests, allowing testers to focus on those areas and improve the overall test coverage.\n",
      "\n",
      "5. Test result analysis: Langsmith can analyze the test results and provide insights into the effectiveness of the tests. It can identify patterns, trends, and potential issues in the test results, helping testers to identify and resolve problems more efficiently.\n",
      "\n",
      "Overall, Langsmith can enhance the testing process by automating repetitive tasks, generating comprehensive test cases and data, analyzing test coverage and results, and improving overall testing efficiency and effectiveness.\n"
     ]
    }
   ],
   "source": [
    "# pip install langchain-openai\n",
    "# export OPENAI_API_KEY=\"...\"\n",
    "# https://python.langchain.com/docs/modules/data_connection/retrievers/MultiQueryRetriever\n",
    "OpenAI_Key = input()\n",
    "\n",
    "from langchain_openai import ChatOpenAI\n",
    "\n",
    "llm = ChatOpenAI(openai_api_key=OpenAI_Key)\n",
    "\n",
    "result = llm.invoke(\"how can langsmith help with testing?\")\n",
    "\n",
    "print(result.content)"
   ]
  },
  {
   "cell_type": "code",
   "execution_count": 6,
   "metadata": {
    "vscode": {
     "languageId": "powershell"
    }
   },
   "outputs": [
    {
     "name": "stdout",
     "output_type": "stream",
     "text": [
      "Langsmith can help with testing by providing automated language testing solutions. It can generate test cases, run tests, and analyze test results to identify any language-related issues or errors in software applications or systems. This helps ensure the accuracy, functionality, and quality of language processing components within the tested software.\n"
     ]
    }
   ],
   "source": [
    "from langchain_core.prompts import ChatPromptTemplate\n",
    "\n",
    "prompt = ChatPromptTemplate.from_messages([\n",
    "    (\"system\", \"Answer my question as simple as possible\"),\n",
    "    (\"user\", \"{input}\")\n",
    "])\n",
    "\n",
    "chain = prompt | llm\n",
    "\n",
    "result = chain.invoke({\"input\": \"how can langsmith help with testing?\"})\n",
    "\n",
    "print(result.content)"
   ]
  }
 ],
 "metadata": {
  "kernelspec": {
   "display_name": "rewoo",
   "language": "python",
   "name": "python3"
  },
  "language_info": {
   "codemirror_mode": {
    "name": "ipython",
    "version": 3
   },
   "file_extension": ".py",
   "mimetype": "text/x-python",
   "name": "python",
   "nbconvert_exporter": "python",
   "pygments_lexer": "ipython3",
   "version": "3.8.18"
  }
 },
 "nbformat": 4,
 "nbformat_minor": 2
}
